{
 "cells": [
  {
   "cell_type": "code",
   "execution_count": 9,
   "id": "9774ec96",
   "metadata": {},
   "outputs": [],
   "source": [
    "# This script reads in flare summary and avg 1m data and outputs single flares (defined as\n",
    "# continaining start, peak, end, and post) flux and time values\n",
    "\n",
    "import netCDF4 as nc\n",
    "import pandas as pd\n",
    "import matplotlib.pyplot as plt\n",
    "import numpy as np\n",
    "import time\n",
    "import matplotlib\n",
    "import datetime \n",
    "#from astropy import Time\n"
   ]
  },
  {
   "cell_type": "code",
   "execution_count": 10,
   "id": "861ee6c9",
   "metadata": {},
   "outputs": [],
   "source": [
    "#load in file, \n",
    "# downloaded from https://www.ncei.noaa.gov/products/goes-r-extreme-ultraviolet-xray-irradiance \n",
    "\n",
    "file1='sci_xrsf-l2-flsum_g18_s20220905_e20250329_v2-2-0.nc' \n",
    "file2 ='sci_xrsf-l2-avg1m_g18_s20220902_e20250329_v2-2-0.nc'\n",
    "flsum= nc.Dataset(file1)\n",
    "avgm = nc.Dataset(file2)\n",
    "\n",
    "#vars1 = flsum.variables.keys() #info in\n",
    "#vars2 = avgm.variables.keys()\n"
   ]
  },
  {
   "cell_type": "code",
   "execution_count": 11,
   "id": "89721c12",
   "metadata": {},
   "outputs": [
    {
     "name": "stderr",
     "output_type": "stream",
     "text": [
      "<ipython-input-11-efc545d28665>:2: DeprecationWarning: `np.bool` is a deprecated alias for the builtin `bool`. To silence this warning, use `bool` by itself. Doing this will not modify any behavior and is safe. If you specifically wanted the numpy scalar type, use `np.bool_` here.\n",
      "Deprecated in NumPy 1.20; for more details and guidance: https://numpy.org/devdocs/release/1.20.0-notes.html#deprecations\n",
      "  flsum_date     = nc.num2date(flsum['time'][:],flsum['time'].units,only_use_cftime_datetimes=False)\n",
      "<ipython-input-11-efc545d28665>:2: DeprecationWarning: tostring() is deprecated. Use tobytes() instead.\n",
      "  flsum_date     = nc.num2date(flsum['time'][:],flsum['time'].units,only_use_cftime_datetimes=False)\n",
      "<ipython-input-11-efc545d28665>:3: DeprecationWarning: `np.bool` is a deprecated alias for the builtin `bool`. To silence this warning, use `bool` by itself. Doing this will not modify any behavior and is safe. If you specifically wanted the numpy scalar type, use `np.bool_` here.\n",
      "Deprecated in NumPy 1.20; for more details and guidance: https://numpy.org/devdocs/release/1.20.0-notes.html#deprecations\n",
      "  avgm_date      = nc.num2date(avgm['time'][:],avgm['time'].units,only_use_cftime_datetimes=False)\n",
      "<ipython-input-11-efc545d28665>:3: DeprecationWarning: tostring() is deprecated. Use tobytes() instead.\n",
      "  avgm_date      = nc.num2date(avgm['time'][:],avgm['time'].units,only_use_cftime_datetimes=False)\n"
     ]
    }
   ],
   "source": [
    "#useful variables\n",
    "flsum_date     = nc.num2date(flsum['time'][:],flsum['time'].units,only_use_cftime_datetimes=False)\n",
    "avgm_date      = nc.num2date(avgm['time'][:],avgm['time'].units,only_use_cftime_datetimes=False)\n",
    "flux           = np.ma.filled(avgm['xrsb_flux'], np.nan)\n",
    "flsum_status   = np.ma.filled(flsum['status'], np.nan)\n",
    "flsumflux      = np.ma.filled(flsum['xrsb_flux'], np.nan)\n",
    "flsumbkg       = np.ma.filled(flsum['background_flux'], np.nan)"
   ]
  },
  {
   "cell_type": "code",
   "execution_count": 21,
   "id": "2838906a",
   "metadata": {},
   "outputs": [
    {
     "data": {
      "text/plain": [
       "2.5753424657534247"
      ]
     },
     "execution_count": 21,
     "metadata": {},
     "output_type": "execute_result"
    }
   ],
   "source": [
    "#len(flux) / 525600 #checks out to about 2.5 yrs of data"
   ]
  },
  {
   "cell_type": "code",
   "execution_count": 23,
   "id": "f9864cbf",
   "metadata": {},
   "outputs": [],
   "source": [
    "def filter_flares_e_s_p(status):\n",
    "    # Select events that have, in order: post/end, start, peak\n",
    "    all_starts = np.array(np.where(status == 'EVENT_START')) \n",
    "    starts = np.delete(all_starts, 0) #remove first b/c last of list will be end typically\n",
    "    \n",
    "    tmp = np.where(np.logical_or(status[starts-1] == 'POST_EVENT',\n",
    "                                 status[starts-1] == 'EVENT_END'))\n",
    "    ends_then_starts = starts[tmp] # note flsum_status[ends_then_starts] is all event starts, not ends\n",
    "\n",
    "    tmp = np.where(status[ends_then_starts + 1] == 'EVENT_PEAK')\n",
    "    ends_then_starts_then_peaks = ends_then_starts[tmp]\n",
    "\n",
    "    tmp = np.where(flsum_status[ends_then_starts_then_peaks + 2] == 'EVENT_END')\n",
    "    ends_then_starts_then_peaks_then_ends = ends_then_starts_then_peaks[tmp]\n",
    "    \n",
    "    tmp = np.where(flsum_status[ends_then_starts_then_peaks_then_ends + 3] == 'POST_EVENT')\n",
    "    ends_then_starts_then_peaks_then_ends_then_post = ends_then_starts_then_peaks_then_ends[tmp]\n",
    "##    # This is very easy process to mess up. Check carefully when changing.\n",
    "\n",
    "    starts = ends_then_starts_then_peaks_then_ends_then_post\n",
    "    peaks = ends_then_starts_then_peaks_then_ends_then_post + 1\n",
    "    ends  = ends_then_starts_then_peaks_then_ends_then_post + 2\n",
    "    posts = ends_then_starts_then_peaks_then_ends_then_post + 3\n",
    "    \n",
    "    #print(len(np.where(status[starts+3]=='POST_EVENT')[0]))\n",
    "    return starts, peaks, ends, posts\n",
    "\n",
    "starts, peaks, ends, posts = filter_flares_e_s_p(flsum_status)\n"
   ]
  },
  {
   "cell_type": "code",
   "execution_count": 27,
   "id": "23f0f115",
   "metadata": {},
   "outputs": [
    {
     "data": {
      "text/plain": [
       "4063"
      ]
     },
     "execution_count": 27,
     "metadata": {},
     "output_type": "execute_result"
    }
   ],
   "source": [
    "len(flsum_status[posts])"
   ]
  },
  {
   "cell_type": "code",
   "execution_count": 38,
   "id": "2c25061b",
   "metadata": {},
   "outputs": [],
   "source": [
    "#find indicies of events in the avg1m file to save flux in cuts\n",
    "# must be done for each event status because flare times vary\n",
    "\n",
    "avgm_s_inds = []\n",
    "for ind in starts:\n",
    "    tmp = np.where(avgm_date == flsum_date[ind])[0][0]\n",
    "    avgm_s_inds.append(tmp)\n",
    "    \n",
    "avgm_pe_inds = []\n",
    "for ind in peaks:\n",
    "    tmp = np.where(avgm_date == flsum_date[ind])[0][0]\n",
    "    avgm_pe_inds.append(tmp)\n",
    "\n",
    "avgm_e_inds = []\n",
    "for ind in ends:\n",
    "    tmp = np.where(avgm_date == flsum_date[ind])[0][0]\n",
    "    avgm_e_inds.append(tmp)\n",
    "    \n",
    "avgm_po_inds = []\n",
    "for ind in posts:\n",
    "    tmp = np.where(avgm_date == flsum_date[ind])[0][0]\n",
    "    avgm_po_inds.append(tmp)\n",
    "    \n",
    "\n",
    "    \n",
    "# could have done list comprehension, but more understandable this way\n",
    "#also might be sped up as dictionary search\n",
    "# avgm_date_dict = {val: idx for idx, val in enumerate(avgm_date)}\n",
    "# avgm_s_inds = [avgm_date_dict[flsum_date[ind]] for ind in starts if flsum_date[ind] in avgm_date_dict]\n"
   ]
  },
  {
   "cell_type": "code",
   "execution_count": 37,
   "id": "6ead1859",
   "metadata": {},
   "outputs": [
    {
     "data": {
      "text/plain": [
       "4063"
      ]
     },
     "execution_count": 37,
     "metadata": {},
     "output_type": "execute_result"
    }
   ],
   "source": [
    "len(avgm_s_inds)"
   ]
  },
  {
   "cell_type": "code",
   "execution_count": 43,
   "id": "5287fd7d",
   "metadata": {},
   "outputs": [
    {
     "name": "stdout",
     "output_type": "stream",
     "text": [
      "2.3160835e-06\n",
      "2.3160835e-06\n"
     ]
    }
   ],
   "source": [
    "#verify that this system works\n",
    "\n",
    "print(flux[avgm_pe_inds[20]])\n",
    "print(flsumflux[peaks[20]])"
   ]
  },
  {
   "cell_type": "code",
   "execution_count": 82,
   "id": "2ce4ef69",
   "metadata": {},
   "outputs": [],
   "source": [
    "start_time = avgm_date[0]\n",
    "\n",
    "avgm_time = [(dt - start_time).total_seconds() / 60 for dt in avgm_date]"
   ]
  },
  {
   "cell_type": "code",
   "execution_count": 89,
   "id": "2256cf59",
   "metadata": {},
   "outputs": [
    {
     "data": {
      "text/plain": [
       "True"
      ]
     },
     "execution_count": 89,
     "metadata": {},
     "output_type": "execute_result"
    }
   ],
   "source": [
    "#check worked correctly (add one because start is zero minutes)\n",
    "len(avgm_date) == (avgm_time[-1] +1)\n"
   ]
  },
  {
   "cell_type": "code",
   "execution_count": 99,
   "id": "ffb149a4",
   "metadata": {},
   "outputs": [
    {
     "data": {
      "text/plain": [
       "12184"
      ]
     },
     "execution_count": 99,
     "metadata": {},
     "output_type": "execute_result"
    }
   ],
   "source": [
    "avgm_s_inds[i]\n"
   ]
  },
  {
   "cell_type": "code",
   "execution_count": 105,
   "id": "03de4f31",
   "metadata": {},
   "outputs": [],
   "source": [
    "# get start to peak flux from avg1m\n",
    "#zero out time so ML model doesnt get confused by dates\n",
    "\n",
    "#for i in range(len(avgm_s_inds)):\n",
    "# see i = 3 for bad example\n",
    "\n",
    "i = 5\n",
    "\n",
    "flare_start_time = avgm_time[avgm_s_inds[i]]\n",
    "\n",
    "flare_flux_s_pe = flux[avgm_s_inds[i]:avgm_pe_inds[i]]\n",
    "flare_time_s_pe = np.array(avgm_time[avgm_s_inds[i]:avgm_pe_inds[i]]) - flare_start_time\n",
    "\n",
    "flare_flux_pe_e = flux[avgm_pe_inds[i]:avgm_e_inds[i]]\n",
    "flare_time_pe_e = np.array(avgm_time[avgm_pe_inds[i]:avgm_e_inds[i]]) - flare_start_time\n",
    "\n",
    "flare_flux_pe_po = flux[avgm_pe_inds[i]:avgm_po_inds[i]]\n",
    "flare_time_pe_po = np.array(avgm_time[avgm_pe_inds[i]:avgm_po_inds[i]])- flare_start_time\n"
   ]
  },
  {
   "cell_type": "code",
   "execution_count": 125,
   "id": "83f139d4",
   "metadata": {},
   "outputs": [
    {
     "data": {
      "text/plain": [
       "<matplotlib.legend.Legend at 0x7f9f2fa4b6a0>"
      ]
     },
     "execution_count": 125,
     "metadata": {},
     "output_type": "execute_result"
    },
    {
     "data": {
      "image/png": "[encoded data removed]",
      "text/plain": [
       "<Figure size 720x432 with 1 Axes>"
      ]
     },
     "metadata": {
      "needs_background": "light"
     },
     "output_type": "display_data"
    }
   ],
   "source": [
    "plt.figure(figsize=(10,6))\n",
    "plt.rcParams['font.size'] = 15\n",
    "plt.plot(flare_time_s_pe, flare_flux_s_pe, linewidth = 3, label = 'Start-Peak')\n",
    "plt.plot(flare_time_pe_po, flare_flux_pe_po, linewidth = 3, color = 'red', label = 'Peak-Post')\n",
    "plt.plot(flare_time_pe_e, flare_flux_pe_e, linewidth = 1.5, color = 'black', label = 'Peak-End')\n",
    "plt.xlabel('Time since flare start (min)')\n",
    "plt.ylabel('XRS-b Flux (W/m^2)')\n",
    "plt.legend()"
   ]
  },
  {
   "cell_type": "code",
   "execution_count": null,
   "id": "f299627a",
   "metadata": {},
   "outputs": [],
   "source": []
  }
 ],
 "metadata": {
  "kernelspec": {
   "display_name": "Python 3",
   "language": "python",
   "name": "python3"
  },
  "language_info": {
   "codemirror_mode": {
    "name": "ipython",
    "version": 3
   },
   "file_extension": ".py",
   "mimetype": "text/x-python",
   "name": "python",
   "nbconvert_exporter": "python",
   "pygments_lexer": "ipython3",
   "version": "3.8.8"
  }
 },
 "nbformat": 4,
 "nbformat_minor": 5
}
